{
  "metadata": {
    "kernelspec": {
      "language": "python",
      "display_name": "Python 3",
      "name": "python3"
    },
    "language_info": {
      "name": "python",
      "version": "3.7.12",
      "mimetype": "text/x-python",
      "codemirror_mode": {
        "name": "ipython",
        "version": 3
      },
      "pygments_lexer": "ipython3",
      "nbconvert_exporter": "python",
      "file_extension": ".py"
    },
    "colab": {
      "name": "Group5_AML_Lab2.ipynb",
      "provenance": [],
      "collapsed_sections": []
    }
  },
  "nbformat_minor": 0,
  "nbformat": 4,
  "cells": [
    {
      "cell_type": "markdown",
      "source": [
        "#**Q2(a).**"
      ],
      "metadata": {
        "id": "sj7s9Ne54F_o"
      }
    },
    {
      "cell_type": "code",
      "source": [
        "import numpy as np \n",
        "import pandas as pd \n",
        "\n",
        "import matplotlib.pyplot as plt\n",
        "from pylab import *\n",
        "\n",
        "import random\n",
        "\n",
        "from sklearn import metrics\n",
        "from sklearn.metrics import accuracy_score\n",
        "from sklearn.model_selection import train_test_split\n",
        "from sklearn.discriminant_analysis import LinearDiscriminantAnalysis as LDA"
      ],
      "metadata": {
        "_uuid": "8f2839f25d086af736a60e9eeb907d3b93b6e0e5",
        "_cell_guid": "b1076dfc-b9ad-4769-8c92-a6c4dae69d19",
        "execution": {
          "iopub.status.busy": "2022-03-14T07:38:32.048973Z",
          "iopub.execute_input": "2022-03-14T07:38:32.049759Z",
          "iopub.status.idle": "2022-03-14T07:38:32.056319Z",
          "shell.execute_reply.started": "2022-03-14T07:38:32.049717Z",
          "shell.execute_reply": "2022-03-14T07:38:32.055422Z"
        },
        "trusted": true,
        "id": "11n-8AJpbRhv"
      },
      "execution_count": null,
      "outputs": []
    },
    {
      "cell_type": "code",
      "source": [
        "mnist_train = pd.read_csv(\"mnist_train.csv\")"
      ],
      "metadata": {
        "execution": {
          "iopub.status.busy": "2022-03-14T07:21:08.069200Z",
          "iopub.execute_input": "2022-03-14T07:21:08.069717Z",
          "iopub.status.idle": "2022-03-14T07:21:14.946135Z",
          "shell.execute_reply.started": "2022-03-14T07:21:08.069681Z",
          "shell.execute_reply": "2022-03-14T07:21:14.945068Z"
        },
        "trusted": true,
        "id": "JH-d5TnCbRh4"
      },
      "execution_count": null,
      "outputs": []
    },
    {
      "cell_type": "code",
      "source": [
        "np.shape(mnist_train)"
      ],
      "metadata": {
        "colab": {
          "base_uri": "https://localhost:8080/"
        },
        "id": "Ge-ZhPjQmSdj",
        "outputId": "0aa40352-f10f-4dcd-cc55-9bf656f6ae74"
      },
      "execution_count": null,
      "outputs": [
        {
          "output_type": "execute_result",
          "data": {
            "text/plain": [
              "(60000, 785)"
            ]
          },
          "metadata": {},
          "execution_count": 82
        }
      ]
    },
    {
      "cell_type": "code",
      "source": [
        "mnist_train.head()"
      ],
      "metadata": {
        "id": "5k_VvW50azAS",
        "colab": {
          "base_uri": "https://localhost:8080/",
          "height": 299
        },
        "outputId": "12d74087-de53-4b10-87b5-ead90ad80799"
      },
      "execution_count": null,
      "outputs": [
        {
          "output_type": "execute_result",
          "data": {
            "text/plain": [
              "   label  1x1  1x2  1x3  1x4  1x5  1x6  1x7  1x8  1x9  ...  28x19  28x20  \\\n",
              "0      5    0    0    0    0    0    0    0    0    0  ...      0      0   \n",
              "1      0    0    0    0    0    0    0    0    0    0  ...      0      0   \n",
              "2      4    0    0    0    0    0    0    0    0    0  ...      0      0   \n",
              "3      1    0    0    0    0    0    0    0    0    0  ...      0      0   \n",
              "4      9    0    0    0    0    0    0    0    0    0  ...      0      0   \n",
              "\n",
              "   28x21  28x22  28x23  28x24  28x25  28x26  28x27  28x28  \n",
              "0      0      0      0      0      0      0      0      0  \n",
              "1      0      0      0      0      0      0      0      0  \n",
              "2      0      0      0      0      0      0      0      0  \n",
              "3      0      0      0      0      0      0      0      0  \n",
              "4      0      0      0      0      0      0      0      0  \n",
              "\n",
              "[5 rows x 785 columns]"
            ],
            "text/html": [
              "\n",
              "  <div id=\"df-afb45872-8eaf-4325-91ee-16b82937a8bf\">\n",
              "    <div class=\"colab-df-container\">\n",
              "      <div>\n",
              "<style scoped>\n",
              "    .dataframe tbody tr th:only-of-type {\n",
              "        vertical-align: middle;\n",
              "    }\n",
              "\n",
              "    .dataframe tbody tr th {\n",
              "        vertical-align: top;\n",
              "    }\n",
              "\n",
              "    .dataframe thead th {\n",
              "        text-align: right;\n",
              "    }\n",
              "</style>\n",
              "<table border=\"1\" class=\"dataframe\">\n",
              "  <thead>\n",
              "    <tr style=\"text-align: right;\">\n",
              "      <th></th>\n",
              "      <th>label</th>\n",
              "      <th>1x1</th>\n",
              "      <th>1x2</th>\n",
              "      <th>1x3</th>\n",
              "      <th>1x4</th>\n",
              "      <th>1x5</th>\n",
              "      <th>1x6</th>\n",
              "      <th>1x7</th>\n",
              "      <th>1x8</th>\n",
              "      <th>1x9</th>\n",
              "      <th>...</th>\n",
              "      <th>28x19</th>\n",
              "      <th>28x20</th>\n",
              "      <th>28x21</th>\n",
              "      <th>28x22</th>\n",
              "      <th>28x23</th>\n",
              "      <th>28x24</th>\n",
              "      <th>28x25</th>\n",
              "      <th>28x26</th>\n",
              "      <th>28x27</th>\n",
              "      <th>28x28</th>\n",
              "    </tr>\n",
              "  </thead>\n",
              "  <tbody>\n",
              "    <tr>\n",
              "      <th>0</th>\n",
              "      <td>5</td>\n",
              "      <td>0</td>\n",
              "      <td>0</td>\n",
              "      <td>0</td>\n",
              "      <td>0</td>\n",
              "      <td>0</td>\n",
              "      <td>0</td>\n",
              "      <td>0</td>\n",
              "      <td>0</td>\n",
              "      <td>0</td>\n",
              "      <td>...</td>\n",
              "      <td>0</td>\n",
              "      <td>0</td>\n",
              "      <td>0</td>\n",
              "      <td>0</td>\n",
              "      <td>0</td>\n",
              "      <td>0</td>\n",
              "      <td>0</td>\n",
              "      <td>0</td>\n",
              "      <td>0</td>\n",
              "      <td>0</td>\n",
              "    </tr>\n",
              "    <tr>\n",
              "      <th>1</th>\n",
              "      <td>0</td>\n",
              "      <td>0</td>\n",
              "      <td>0</td>\n",
              "      <td>0</td>\n",
              "      <td>0</td>\n",
              "      <td>0</td>\n",
              "      <td>0</td>\n",
              "      <td>0</td>\n",
              "      <td>0</td>\n",
              "      <td>0</td>\n",
              "      <td>...</td>\n",
              "      <td>0</td>\n",
              "      <td>0</td>\n",
              "      <td>0</td>\n",
              "      <td>0</td>\n",
              "      <td>0</td>\n",
              "      <td>0</td>\n",
              "      <td>0</td>\n",
              "      <td>0</td>\n",
              "      <td>0</td>\n",
              "      <td>0</td>\n",
              "    </tr>\n",
              "    <tr>\n",
              "      <th>2</th>\n",
              "      <td>4</td>\n",
              "      <td>0</td>\n",
              "      <td>0</td>\n",
              "      <td>0</td>\n",
              "      <td>0</td>\n",
              "      <td>0</td>\n",
              "      <td>0</td>\n",
              "      <td>0</td>\n",
              "      <td>0</td>\n",
              "      <td>0</td>\n",
              "      <td>...</td>\n",
              "      <td>0</td>\n",
              "      <td>0</td>\n",
              "      <td>0</td>\n",
              "      <td>0</td>\n",
              "      <td>0</td>\n",
              "      <td>0</td>\n",
              "      <td>0</td>\n",
              "      <td>0</td>\n",
              "      <td>0</td>\n",
              "      <td>0</td>\n",
              "    </tr>\n",
              "    <tr>\n",
              "      <th>3</th>\n",
              "      <td>1</td>\n",
              "      <td>0</td>\n",
              "      <td>0</td>\n",
              "      <td>0</td>\n",
              "      <td>0</td>\n",
              "      <td>0</td>\n",
              "      <td>0</td>\n",
              "      <td>0</td>\n",
              "      <td>0</td>\n",
              "      <td>0</td>\n",
              "      <td>...</td>\n",
              "      <td>0</td>\n",
              "      <td>0</td>\n",
              "      <td>0</td>\n",
              "      <td>0</td>\n",
              "      <td>0</td>\n",
              "      <td>0</td>\n",
              "      <td>0</td>\n",
              "      <td>0</td>\n",
              "      <td>0</td>\n",
              "      <td>0</td>\n",
              "    </tr>\n",
              "    <tr>\n",
              "      <th>4</th>\n",
              "      <td>9</td>\n",
              "      <td>0</td>\n",
              "      <td>0</td>\n",
              "      <td>0</td>\n",
              "      <td>0</td>\n",
              "      <td>0</td>\n",
              "      <td>0</td>\n",
              "      <td>0</td>\n",
              "      <td>0</td>\n",
              "      <td>0</td>\n",
              "      <td>...</td>\n",
              "      <td>0</td>\n",
              "      <td>0</td>\n",
              "      <td>0</td>\n",
              "      <td>0</td>\n",
              "      <td>0</td>\n",
              "      <td>0</td>\n",
              "      <td>0</td>\n",
              "      <td>0</td>\n",
              "      <td>0</td>\n",
              "      <td>0</td>\n",
              "    </tr>\n",
              "  </tbody>\n",
              "</table>\n",
              "<p>5 rows × 785 columns</p>\n",
              "</div>\n",
              "      <button class=\"colab-df-convert\" onclick=\"convertToInteractive('df-afb45872-8eaf-4325-91ee-16b82937a8bf')\"\n",
              "              title=\"Convert this dataframe to an interactive table.\"\n",
              "              style=\"display:none;\">\n",
              "        \n",
              "  <svg xmlns=\"http://www.w3.org/2000/svg\" height=\"24px\"viewBox=\"0 0 24 24\"\n",
              "       width=\"24px\">\n",
              "    <path d=\"M0 0h24v24H0V0z\" fill=\"none\"/>\n",
              "    <path d=\"M18.56 5.44l.94 2.06.94-2.06 2.06-.94-2.06-.94-.94-2.06-.94 2.06-2.06.94zm-11 1L8.5 8.5l.94-2.06 2.06-.94-2.06-.94L8.5 2.5l-.94 2.06-2.06.94zm10 10l.94 2.06.94-2.06 2.06-.94-2.06-.94-.94-2.06-.94 2.06-2.06.94z\"/><path d=\"M17.41 7.96l-1.37-1.37c-.4-.4-.92-.59-1.43-.59-.52 0-1.04.2-1.43.59L10.3 9.45l-7.72 7.72c-.78.78-.78 2.05 0 2.83L4 21.41c.39.39.9.59 1.41.59.51 0 1.02-.2 1.41-.59l7.78-7.78 2.81-2.81c.8-.78.8-2.07 0-2.86zM5.41 20L4 18.59l7.72-7.72 1.47 1.35L5.41 20z\"/>\n",
              "  </svg>\n",
              "      </button>\n",
              "      \n",
              "  <style>\n",
              "    .colab-df-container {\n",
              "      display:flex;\n",
              "      flex-wrap:wrap;\n",
              "      gap: 12px;\n",
              "    }\n",
              "\n",
              "    .colab-df-convert {\n",
              "      background-color: #E8F0FE;\n",
              "      border: none;\n",
              "      border-radius: 50%;\n",
              "      cursor: pointer;\n",
              "      display: none;\n",
              "      fill: #1967D2;\n",
              "      height: 32px;\n",
              "      padding: 0 0 0 0;\n",
              "      width: 32px;\n",
              "    }\n",
              "\n",
              "    .colab-df-convert:hover {\n",
              "      background-color: #E2EBFA;\n",
              "      box-shadow: 0px 1px 2px rgba(60, 64, 67, 0.3), 0px 1px 3px 1px rgba(60, 64, 67, 0.15);\n",
              "      fill: #174EA6;\n",
              "    }\n",
              "\n",
              "    [theme=dark] .colab-df-convert {\n",
              "      background-color: #3B4455;\n",
              "      fill: #D2E3FC;\n",
              "    }\n",
              "\n",
              "    [theme=dark] .colab-df-convert:hover {\n",
              "      background-color: #434B5C;\n",
              "      box-shadow: 0px 1px 3px 1px rgba(0, 0, 0, 0.15);\n",
              "      filter: drop-shadow(0px 1px 2px rgba(0, 0, 0, 0.3));\n",
              "      fill: #FFFFFF;\n",
              "    }\n",
              "  </style>\n",
              "\n",
              "      <script>\n",
              "        const buttonEl =\n",
              "          document.querySelector('#df-afb45872-8eaf-4325-91ee-16b82937a8bf button.colab-df-convert');\n",
              "        buttonEl.style.display =\n",
              "          google.colab.kernel.accessAllowed ? 'block' : 'none';\n",
              "\n",
              "        async function convertToInteractive(key) {\n",
              "          const element = document.querySelector('#df-afb45872-8eaf-4325-91ee-16b82937a8bf');\n",
              "          const dataTable =\n",
              "            await google.colab.kernel.invokeFunction('convertToInteractive',\n",
              "                                                     [key], {});\n",
              "          if (!dataTable) return;\n",
              "\n",
              "          const docLinkHtml = 'Like what you see? Visit the ' +\n",
              "            '<a target=\"_blank\" href=https://colab.research.google.com/notebooks/data_table.ipynb>data table notebook</a>'\n",
              "            + ' to learn more about interactive tables.';\n",
              "          element.innerHTML = '';\n",
              "          dataTable['output_type'] = 'display_data';\n",
              "          await google.colab.output.renderOutput(dataTable, element);\n",
              "          const docLink = document.createElement('div');\n",
              "          docLink.innerHTML = docLinkHtml;\n",
              "          element.appendChild(docLink);\n",
              "        }\n",
              "      </script>\n",
              "    </div>\n",
              "  </div>\n",
              "  "
            ]
          },
          "metadata": {},
          "execution_count": 83
        }
      ]
    },
    {
      "cell_type": "code",
      "source": [
        "mnist_train = mnist_train.loc[mnist_train['label'].isin([3, 8])]"
      ],
      "metadata": {
        "id": "wjNeKAyCXqsS"
      },
      "execution_count": null,
      "outputs": []
    },
    {
      "cell_type": "code",
      "source": [
        "X = mnist_train.iloc[:,1:785]\n",
        "y = mnist_train.iloc[:,0]\n",
        "\n",
        "X_train, X_test, y_train, y_test = train_test_split(X, y, test_size=0.40, random_state=0)"
      ],
      "metadata": {
        "id": "7hSAlEldePnj"
      },
      "execution_count": null,
      "outputs": []
    },
    {
      "cell_type": "code",
      "source": [
        "lda = LDA(n_components=1)\n",
        "X_train_r2 = lda.fit(X_train, y_train)"
      ],
      "metadata": {
        "execution": {
          "iopub.status.busy": "2022-03-14T07:21:19.432705Z",
          "iopub.execute_input": "2022-03-14T07:21:19.433015Z",
          "iopub.status.idle": "2022-03-14T07:21:33.135070Z",
          "shell.execute_reply.started": "2022-03-14T07:21:19.432982Z",
          "shell.execute_reply": "2022-03-14T07:21:33.133869Z"
        },
        "trusted": true,
        "id": "y4smlYW7bRh6"
      },
      "execution_count": null,
      "outputs": []
    },
    {
      "cell_type": "code",
      "source": [
        "y_pred = lda.predict(X_test)\n",
        "print(\"Accuracy before attack: \",accuracy_score(y_test, y_pred))\n",
        "print(y_pred.shape)"
      ],
      "metadata": {
        "execution": {
          "iopub.status.busy": "2022-03-14T07:35:22.408098Z",
          "iopub.execute_input": "2022-03-14T07:35:22.408408Z",
          "iopub.status.idle": "2022-03-14T07:35:22.475853Z",
          "shell.execute_reply.started": "2022-03-14T07:35:22.408377Z",
          "shell.execute_reply": "2022-03-14T07:35:22.474810Z"
        },
        "trusted": true,
        "id": "uIFX2P6ObRh-",
        "colab": {
          "base_uri": "https://localhost:8080/"
        },
        "outputId": "97d3a8bf-5525-4ac3-9a76-e100411371a2"
      },
      "execution_count": null,
      "outputs": [
        {
          "output_type": "stream",
          "name": "stdout",
          "text": [
            "Accuracy before attack:  0.958898393490507\n",
            "(4793,)\n"
          ]
        }
      ]
    },
    {
      "cell_type": "code",
      "source": [
        "print(\n",
        "    f\"Classification report for classifier {lda}:\\n\"\n",
        "    f\"{metrics.classification_report(y_test, y_pred)}\\n\"\n",
        ")\n",
        "w0 = lda.intercept_\n",
        "w = lda.coef_\n",
        "print(f\"Bias: \\n{w0}\")\n",
        "print(f\"\\n\\nWeights: \\n{w}\")"
      ],
      "metadata": {
        "execution": {
          "iopub.status.busy": "2022-03-14T07:38:36.110366Z",
          "iopub.execute_input": "2022-03-14T07:38:36.110687Z",
          "iopub.status.idle": "2022-03-14T07:38:36.142776Z",
          "shell.execute_reply.started": "2022-03-14T07:38:36.110655Z",
          "shell.execute_reply": "2022-03-14T07:38:36.141990Z"
        },
        "trusted": true,
        "id": "3hEsVdhNbRh_",
        "colab": {
          "base_uri": "https://localhost:8080/"
        },
        "outputId": "541bdd0c-00e6-40cf-916d-253237f75b45"
      },
      "execution_count": null,
      "outputs": [
        {
          "output_type": "stream",
          "name": "stdout",
          "text": [
            "Classification report for classifier LinearDiscriminantAnalysis(n_components=1):\n",
            "              precision    recall  f1-score   support\n",
            "\n",
            "           3       0.96      0.96      0.96      2416\n",
            "           8       0.96      0.96      0.96      2377\n",
            "\n",
            "    accuracy                           0.96      4793\n",
            "   macro avg       0.96      0.96      0.96      4793\n",
            "weighted avg       0.96      0.96      0.96      4793\n",
            "\n",
            "\n",
            "Bias: \n",
            "[-3.17727711]\n",
            "\n",
            "\n",
            "Weights: \n",
            "[[-2.82283584e-15  8.59828320e-15 -2.41927028e-14  6.03506816e-14\n",
            "  -5.53615762e-14 -8.40779234e-14  6.92086552e-15  3.04409166e-14\n",
            "   1.64282187e-14  3.66697707e-14  2.95647173e-14  3.34854990e-14\n",
            "  -1.73056288e-14  7.77292424e-14 -8.78820157e-15 -5.73656752e-14\n",
            "   4.45487183e-14  2.12057047e-14 -1.99494010e-14 -1.10414239e-14\n",
            "   3.71759833e-14 -2.23196805e-14 -3.00045701e-14  6.33454585e-15\n",
            "  -4.08940608e-14 -2.47281754e-14  8.68704663e-16  1.23999354e-14\n",
            "  -1.13670359e-14  3.73241122e-14  6.37423747e-14  2.58077417e-14\n",
            "   6.78650800e-15  3.13822453e-15  8.05789761e-14 -3.86301341e-14\n",
            "  -7.20423962e-14  2.76074545e-14 -3.90239678e-14 -4.34713830e-14\n",
            "  -4.22446756e-14 -3.06377771e-14  2.00198688e-14  7.86376897e-14\n",
            "   6.61782460e-15 -1.17667316e-14  1.63012868e-15 -1.34336007e-14\n",
            "   4.52098935e-14  2.79405882e-14 -6.71669095e-14 -3.30896006e-14\n",
            "  -3.63631250e-15  3.75602728e-14  3.44178142e-14  3.13078530e-14\n",
            "  -2.64084723e-14  1.63984723e-14 -7.82213857e-14 -1.93484089e-14\n",
            "  -9.78658536e-15  5.77500286e-14  4.55492945e-14 -5.83119423e-14\n",
            "   9.02001583e-14 -7.64835827e-14 -1.31434665e-14 -3.45581547e-14\n",
            "  -1.52499169e-14  1.16772773e-14 -9.44814935e-14 -1.00928417e-01\n",
            "  -2.58415754e-02 -2.58064993e-02 -6.10574421e-03 -2.77818449e-02\n",
            "  -7.04136270e-14  8.23666709e-16  3.16373674e-14 -2.62485220e-14\n",
            "  -2.85104897e-14  2.18577778e-14 -1.49169494e-14 -4.63126493e-16\n",
            "  -7.64445808e-14  5.96961951e-14 -1.05410270e-14 -7.38865136e-14\n",
            "   2.07455703e-01 -3.48585096e-02  5.53418841e-02 -5.83338621e-02\n",
            "   1.82515238e-02  5.82921484e-03 -2.29873568e-03 -8.33246019e-03\n",
            "  -3.25753141e-03  1.03706127e-02 -8.51419424e-03 -6.77560254e-03\n",
            "  -5.15908259e-03 -5.34787521e-03  1.05780442e-02 -1.22807995e-02\n",
            "  -3.28586632e-02  1.75134601e-02  2.61776627e-02 -2.15785342e-02\n",
            "   1.69395150e-01 -7.10281516e-01  2.75945686e-14 -3.24931811e-15\n",
            "   3.72955161e-14  3.19486928e-02 -3.73198714e-02  1.05993595e-01\n",
            "   2.15831061e-02 -1.71172674e-02  8.59024582e-04  4.57951347e-03\n",
            "  -1.03281088e-02  4.68916231e-03 -5.64532514e-03 -2.94558594e-03\n",
            "  -5.27956485e-04 -4.01398981e-03  7.83586531e-04  1.13483004e-03\n",
            "  -8.50766282e-04  2.78671736e-03 -4.30364670e-03 -7.14794978e-04\n",
            "   3.50981138e-03  1.62683314e-03 -5.33759735e-03  1.68196915e-02\n",
            "  -2.39152111e-02  2.35200749e-02 -1.05960894e-01 -1.76162065e-14\n",
            "  -1.27111059e-14  5.17919702e-14 -6.00645862e-02 -2.93877051e-02\n",
            "  -6.65137764e-03  4.57715622e-03  1.40798822e-03  1.09722282e-03\n",
            "   1.95060206e-03 -2.70395813e-03  4.36149144e-03 -3.92558722e-03\n",
            "   4.20265964e-03 -2.91780681e-03  1.41107601e-03 -9.02808113e-05\n",
            "  -6.62764850e-04  2.47884718e-03 -1.31617220e-03  1.68397798e-03\n",
            "  -9.43839389e-04 -3.18335570e-04  5.52459576e-03 -8.98478594e-03\n",
            "   4.92561214e-03  4.63596645e-03 -1.58421353e-02  1.26466977e-01\n",
            "  -4.31074248e-14 -1.47298004e-01 -6.40120101e-02  9.96815852e-03\n",
            "   2.62984324e-03 -5.38741198e-03 -6.24160971e-03 -4.37499728e-03\n",
            "  -3.64764458e-05 -2.57757099e-03 -4.19952230e-03 -3.38984342e-03\n",
            "   2.49847738e-03 -1.70661499e-04 -4.28948347e-03  5.34670177e-03\n",
            "  -3.89064440e-03  3.86112504e-03 -3.85519978e-03  3.95296127e-03\n",
            "  -2.91008387e-03  1.44193175e-03 -3.84009723e-03  1.50916621e-03\n",
            "   2.56538717e-03 -4.76611953e-03  4.26697045e-03  3.62811354e-02\n",
            "   1.77018062e-14  3.12617775e-03  2.64702624e-02 -9.90578794e-03\n",
            "   2.51588017e-03  2.86314464e-03  1.47963084e-03  4.13262570e-04\n",
            "   4.87306880e-04 -1.91084997e-03  3.81207691e-03 -3.20425265e-03\n",
            "  -8.02624732e-04 -7.80152978e-04 -3.44325595e-03 -2.42863203e-03\n",
            "   9.54437983e-04 -3.53566835e-03  3.36275254e-03 -2.83966131e-03\n",
            "   5.16576486e-04  6.48916557e-04  6.11901292e-04  2.03449977e-03\n",
            "  -7.16824247e-03  8.22459606e-03 -1.63453142e-02 -1.73006760e-02\n",
            "  -3.40948118e-15 -5.99705229e-03 -1.31306881e-02  3.28926415e-05\n",
            "   7.54767515e-04 -4.57355831e-03  1.41056702e-03 -9.37435700e-04\n",
            "  -3.30132240e-04  3.90028366e-03  6.80822750e-04  1.08710280e-03\n",
            "  -2.07403727e-03  3.98841792e-03 -2.30474321e-03 -2.00578512e-03\n",
            "   1.83201771e-04 -4.60748484e-04 -6.34218008e-04  1.32168266e-03\n",
            "  -1.83775826e-03  1.87493877e-03 -8.56855532e-04  5.82541458e-04\n",
            "   6.72855119e-03 -9.95293612e-03  4.63511047e-03 -8.01943057e-02\n",
            "  -6.30539230e-16 -4.91030963e-03 -2.51523061e-02 -2.74506833e-03\n",
            "  -4.70906850e-03  1.29728039e-03 -2.15592699e-06  9.36738656e-04\n",
            "  -1.22926724e-03 -1.99497589e-03 -1.57957317e-03  1.53261888e-03\n",
            "  -4.55778842e-05 -4.68523677e-04 -4.09964942e-03 -4.13602124e-03\n",
            "  -8.09659041e-05 -2.44712724e-03 -2.26841822e-04  1.43893759e-03\n",
            "   6.25104096e-04 -8.08042500e-04  1.29996885e-03 -2.92468824e-03\n",
            "   1.55530484e-03  4.70781610e-03 -7.60145993e-03  5.98326530e-02\n",
            "   3.65498554e-17 -9.86738412e-03 -1.44122332e-02  5.35579596e-04\n",
            "   7.52709852e-03 -1.04470956e-02 -2.36820118e-03 -4.13672068e-04\n",
            "   3.77782888e-03  3.95098411e-03  7.29456623e-03  3.65786324e-03\n",
            "   3.39226931e-03  2.00216065e-03  1.77618170e-03 -3.93538590e-03\n",
            "  -2.06498635e-03  7.83916045e-04 -3.42746250e-04 -8.91298212e-05\n",
            "  -1.89774250e-03  9.69987849e-04 -2.63661907e-03  3.12299920e-03\n",
            "  -9.66713650e-03 -5.71776391e-04 -2.69285004e-02 -3.22774215e-02\n",
            "  -1.10002312e-16 -1.34555238e-02  5.80461241e-03 -1.86569261e-02\n",
            "  -9.74997940e-03  1.20580718e-02  1.33226038e-03  1.31442627e-02\n",
            "   2.66698833e-03  4.53844331e-03  2.41397179e-03  1.52709126e-03\n",
            "   3.43021263e-03  1.80299708e-03  4.08265974e-03  1.29421966e-03\n",
            "  -9.31712239e-04 -6.80289972e-04  9.25263415e-04  9.89830591e-04\n",
            "   2.71755265e-03  3.09026252e-03  5.14515809e-04  2.04481928e-03\n",
            "   6.37896602e-03  1.39413489e-02  2.29548554e-02 -1.09317239e-01\n",
            "  -1.25030914e-16 -7.96981025e-02 -7.71030970e-02  2.08757551e-02\n",
            "  -2.83597776e-03 -2.50177768e-03  4.39057642e-03 -4.07206704e-03\n",
            "  -1.04640603e-03  2.86421815e-03 -1.33070396e-03  2.34934833e-03\n",
            "  -1.76818240e-03  4.08794024e-03 -3.32108134e-03  7.01232157e-04\n",
            "  -6.15845324e-04 -4.42267945e-04 -1.91543852e-03 -1.48071686e-03\n",
            "  -4.15270511e-03  2.76961537e-03 -3.36790748e-03 -4.04611106e-03\n",
            "  -8.19074888e-03 -2.59904051e-02 -6.57383757e-03  1.49967729e-01\n",
            "   2.37570944e-18  3.30196576e-16 -1.47006712e-16 -3.15279062e-02\n",
            "   6.77874978e-03  8.65018647e-03 -1.19902564e-03  6.49669329e-03\n",
            "   1.05796572e-03  3.47748919e-03  1.27546469e-04 -2.14372230e-04\n",
            "   3.30562147e-04  3.42459495e-03 -1.67792339e-03  6.10969377e-03\n",
            "  -1.48689017e-03 -1.38295760e-03  3.59255360e-03  1.19517905e-04\n",
            "   1.89512925e-03  1.05957245e-03  2.97342701e-03  6.27298859e-03\n",
            "  -8.09518287e-03  2.07152587e-02 -3.01098872e-01 -6.13986524e-16\n",
            "  -1.55303383e-17 -7.36584039e-02 -8.70541490e-01  5.73628033e-02\n",
            "  -5.16252622e-02  2.91495427e-02 -4.59581031e-03 -2.90740123e-03\n",
            "  -2.28056372e-04 -3.58903954e-03 -1.57253510e-03  1.73610152e-03\n",
            "  -2.64283380e-04  4.66535630e-03 -9.76196204e-04  2.09964030e-03\n",
            "   1.23952180e-03 -6.52731512e-04 -4.37933199e-03  2.01256811e-03\n",
            "  -4.81050855e-04 -1.67161467e-04  1.03508694e-02 -6.64927093e-03\n",
            "   8.72659882e-04 -2.40581551e-02  2.45746001e-01 -8.31004354e-17\n",
            "  -2.90396819e-16  3.11802947e-01  1.38617296e-02 -1.30386620e-02\n",
            "   1.27789414e-02 -2.21074872e-02  2.81663000e-03 -6.27816047e-03\n",
            "   1.53670099e-03  2.03251955e-03  6.31600499e-04 -1.38866229e-03\n",
            "   6.35890906e-04  5.18022594e-03  2.85408489e-03 -4.54519974e-04\n",
            "   8.83103709e-04 -1.79950581e-03  2.05088362e-03 -2.00125582e-03\n",
            "  -4.44879492e-03 -5.20595925e-04 -2.35656617e-03 -1.70035685e-03\n",
            "   5.03820200e-02 -2.32444070e-02 -4.71701903e-02  2.34802369e-17\n",
            "  -4.97569123e-17 -3.86283685e-02 -6.81895923e-04 -1.12555077e-02\n",
            "  -2.74875316e-03  2.91228101e-03  4.90174648e-03  2.22105076e-03\n",
            "   5.78594300e-03 -1.49130247e-03  6.95009052e-04  7.44594904e-04\n",
            "   2.21850186e-03 -5.74703166e-04  1.48774849e-03  1.32256739e-03\n",
            "   2.17419633e-03 -1.03980289e-03 -4.30432291e-03 -3.18092190e-03\n",
            "   2.34133983e-03 -1.57967075e-03 -3.51765195e-03 -4.49911713e-03\n",
            "  -8.87766792e-02  1.20627492e-01  2.14567903e-01  8.02869346e-17\n",
            "   1.81406297e-17 -4.98286797e-02 -6.01481814e-03  3.38407065e-03\n",
            "   6.97689062e-03 -9.36986878e-03 -1.12082211e-03  1.18173506e-03\n",
            "   1.53340211e-03  9.23199159e-03  3.20656922e-03  3.15428102e-03\n",
            "   5.90999213e-03  3.07372085e-03  3.49211816e-03  1.64932426e-03\n",
            "  -3.84124895e-03 -1.20141471e-03 -2.20021931e-03 -7.51355904e-06\n",
            "  -6.65327407e-04  2.49884584e-03 -1.37327604e-03  9.88605492e-04\n",
            "   5.79270316e-02 -9.36767197e-02  2.04932554e-02  3.12866805e-17\n",
            "  -2.07267968e-16  1.47521600e-02  6.39826504e-03 -1.17512658e-02\n",
            "   3.55856297e-03 -1.72343579e-03  1.22619208e-03 -1.47796622e-04\n",
            "   1.20547985e-03  4.14002262e-03  6.22176035e-03  6.19436529e-03\n",
            "   3.09485645e-03  3.64107076e-03 -9.66179167e-04 -4.68242058e-03\n",
            "  -2.98031925e-03 -1.91442007e-03 -1.97621261e-03 -2.28494939e-03\n",
            "   1.74460536e-03 -5.19962114e-03 -1.73819708e-03  1.17634284e-03\n",
            "  -1.64018117e-02  2.50813517e-02  4.83430640e-02 -2.62630089e-18\n",
            "  -2.48510282e-16  3.13171209e-02  8.34087463e-04  4.80776392e-03\n",
            "  -4.58100409e-03 -1.30534341e-03  1.25135102e-03 -5.05580750e-04\n",
            "  -1.79580470e-03  1.12150271e-03 -3.33783013e-04  1.56003845e-03\n",
            "   6.27563371e-03  7.65313931e-05 -3.05613565e-03  4.73115299e-04\n",
            "   3.56196469e-04 -2.22248432e-03  1.49812638e-03 -4.36281641e-03\n",
            "  -3.66334811e-04 -1.75976271e-03  4.96031200e-03  7.50876284e-03\n",
            "   3.26406959e-02  1.20522849e-01  7.44454938e-17  2.81360864e-18\n",
            "   7.13507418e-20 -3.69757666e-03  5.88326863e-04 -6.07139015e-03\n",
            "   5.18001289e-04  1.31380039e-04 -4.27621213e-03  1.36308911e-03\n",
            "   1.03799243e-03 -1.67536362e-03  3.04472761e-03 -9.50907084e-04\n",
            "   1.97751840e-04  2.08349655e-03 -2.20055655e-03 -2.07248369e-03\n",
            "   1.90813642e-03 -2.00602824e-03 -1.24921434e-03  8.13695902e-04\n",
            "  -1.22384448e-03 -4.01668463e-03 -3.28231188e-03 -1.70668965e-02\n",
            "  -3.19325887e-02  2.35749813e-01  3.98592180e-17  1.75251902e-16\n",
            "  -4.86464121e-17 -1.35183149e-02 -1.17487143e-03  2.65048074e-03\n",
            "  -2.20911477e-03  9.51644342e-04 -7.76148079e-04  3.41579333e-04\n",
            "  -3.25808855e-03  2.51373717e-03 -4.19374581e-04  3.45452752e-05\n",
            "   5.48070185e-04 -1.75680857e-03  2.56015484e-03 -2.96035347e-03\n",
            "  -4.42430907e-03  1.83106178e-03  1.50871683e-04 -8.60265098e-04\n",
            "   3.55989356e-03 -1.16566698e-03 -1.48099608e-04  4.29943230e-03\n",
            "   1.19372327e-02 -2.43427965e-01 -2.30625686e-34 -2.38615502e-34\n",
            "   1.21358331e-34  2.66116535e-02 -6.46556327e-03 -3.28554440e-03\n",
            "  -1.61122113e-03  2.74099921e-04  2.09564793e-03  2.49793994e-03\n",
            "  -3.90685550e-04 -5.99292458e-04 -1.25569972e-03 -1.25926965e-03\n",
            "   7.37254770e-04 -1.21287821e-03  1.76366582e-03  1.90031434e-03\n",
            "  -1.97524251e-03 -4.22408234e-03  2.18279250e-04 -2.73480041e-03\n",
            "  -5.07760792e-03  5.08415872e-03  2.77823021e-03 -3.52061548e-02\n",
            "   3.90218529e-03  2.26824364e-02  0.00000000e+00  0.00000000e+00\n",
            "   0.00000000e+00  0.00000000e+00 -3.05173695e-03  8.39019824e-03\n",
            "   8.82498281e-04  1.01638998e-03  9.72846610e-04 -6.62414913e-03\n",
            "  -4.37950633e-04 -1.16674598e-03 -1.19132956e-03 -2.63121329e-03\n",
            "   4.31391940e-03 -1.20900128e-03  2.30335617e-03  2.72107633e-03\n",
            "   2.16754676e-03 -9.95043078e-04  2.81453726e-03  7.77696570e-03\n",
            "  -4.95307684e-03  1.17274044e-02  7.07646134e-03  6.95910797e-02\n",
            "  -3.38454763e-03 -9.88935004e-03  0.00000000e+00  0.00000000e+00\n",
            "   0.00000000e+00  0.00000000e+00  1.25151292e-01 -2.60328491e-02\n",
            "  -2.91454790e-03 -2.84488521e-04 -6.62406275e-03 -1.84102765e-03\n",
            "   2.15776096e-03 -1.07847695e-03 -6.46121877e-04 -3.63241599e-03\n",
            "   4.49629168e-03 -5.35173065e-03  1.20219430e-04 -3.07142793e-04\n",
            "   3.80940650e-03 -5.51678885e-03 -5.00128036e-03  1.14755517e-02\n",
            "   1.86945688e-03 -2.48249803e-02  2.40181671e-02 -1.38361504e-01\n",
            "   1.01799860e+00  0.00000000e+00  0.00000000e+00  0.00000000e+00\n",
            "   0.00000000e+00  0.00000000e+00  0.00000000e+00  6.41570749e-02\n",
            "  -1.33330681e-03 -2.10820898e-04 -1.35884592e-03  1.06143458e-02\n",
            "  -1.52973775e-02  1.30754243e-03 -6.51088736e-03  4.94523492e-03\n",
            "  -1.07612127e-02  4.57365565e-03 -9.75836346e-03  2.88019259e-03\n",
            "  -1.15785109e-03  1.16910502e-02 -1.98261756e-02  1.19471927e-02\n",
            "  -2.01489506e-02  3.10374428e-02  1.09331923e+00 -2.28347475e-01\n",
            "   0.00000000e+00  0.00000000e+00  0.00000000e+00  0.00000000e+00\n",
            "   0.00000000e+00  0.00000000e+00  0.00000000e+00  0.00000000e+00\n",
            "   1.54039053e-01 -2.03548675e-01 -7.66853404e-02  5.46410736e-02\n",
            "  -1.34927680e-02  1.33066523e-01 -1.23911978e-01  3.58770976e-02\n",
            "  -1.75534777e-03  2.73888505e-02 -1.07251965e-01  7.65074350e-02\n",
            "  -2.39889924e-02 -8.37944482e-02  6.99664044e-02 -3.22803996e-02\n",
            "  -6.17695896e-02 -3.34225669e+00  1.49786034e+01  0.00000000e+00\n",
            "   0.00000000e+00  0.00000000e+00  0.00000000e+00  0.00000000e+00\n",
            "   0.00000000e+00  0.00000000e+00  0.00000000e+00  0.00000000e+00\n",
            "   0.00000000e+00  0.00000000e+00  0.00000000e+00  0.00000000e+00\n",
            "   0.00000000e+00  0.00000000e+00  0.00000000e+00  0.00000000e+00\n",
            "   0.00000000e+00  0.00000000e+00  0.00000000e+00  0.00000000e+00\n",
            "   0.00000000e+00  0.00000000e+00  0.00000000e+00  0.00000000e+00\n",
            "   0.00000000e+00  0.00000000e+00  0.00000000e+00  0.00000000e+00\n",
            "   0.00000000e+00  0.00000000e+00  0.00000000e+00  0.00000000e+00]]\n"
          ]
        }
      ]
    },
    {
      "cell_type": "code",
      "source": [
        "disp = metrics.ConfusionMatrixDisplay.from_predictions(y_test, y_pred)\n",
        "disp.figure_.suptitle(\"Confusion Matrix\")\n",
        "print(f\"Confusion matrix before attack:\\n{disp.confusion_matrix}\")\n",
        "\n",
        "plt.show()"
      ],
      "metadata": {
        "execution": {
          "iopub.status.busy": "2022-03-14T07:40:08.448528Z",
          "iopub.execute_input": "2022-03-14T07:40:08.448822Z",
          "iopub.status.idle": "2022-03-14T07:40:09.097506Z",
          "shell.execute_reply.started": "2022-03-14T07:40:08.448791Z",
          "shell.execute_reply": "2022-03-14T07:40:09.096550Z"
        },
        "trusted": true,
        "id": "JGDIR9_JbRiB",
        "colab": {
          "base_uri": "https://localhost:8080/",
          "height": 360
        },
        "outputId": "e5d0d0cb-de3f-4dee-a168-e088ff67d1ef"
      },
      "execution_count": null,
      "outputs": [
        {
          "output_type": "stream",
          "name": "stdout",
          "text": [
            "Confusion matrix before attack:\n",
            "[[2321   95]\n",
            " [ 102 2275]]\n"
          ]
        },
        {
          "output_type": "display_data",
          "data": {
            "text/plain": [
              "<Figure size 432x288 with 2 Axes>"
            ],
            "image/png": "[encoded data removed]"
          },
          "metadata": {
            "needs_background": "light"
          }
        }
      ]
    },
    {
      "cell_type": "markdown",
      "source": [
        "#**Q2(b).**"
      ],
      "metadata": {
        "id": "_Z_5nyrX4UTo"
      }
    },
    {
      "cell_type": "code",
      "source": [
        "X_test_final = X_test.to_numpy(dtype = 'uint8')\n"
      ],
      "metadata": {
        "id": "ukz-6bZlTRvr"
      },
      "execution_count": null,
      "outputs": []
    },
    {
      "cell_type": "code",
      "source": [
        "X_attack=X_test_final-((X_test_final@np.transpose(w)+w0)@w)/np.linalg.norm(w)\n",
        "print(X_attack.shape)"
      ],
      "metadata": {
        "colab": {
          "base_uri": "https://localhost:8080/"
        },
        "id": "jbHbND4fUlkH",
        "outputId": "f0a00592-6dbe-4cf0-8b32-c9c85a942bb5"
      },
      "execution_count": null,
      "outputs": [
        {
          "output_type": "stream",
          "name": "stdout",
          "text": [
            "(4793, 784)\n"
          ]
        }
      ]
    },
    {
      "cell_type": "code",
      "source": [
        "Y_attack=lda.predict(X_attack)\n",
        "print(Y_attack.shape)"
      ],
      "metadata": {
        "id": "XH7lqg6MbRiD",
        "colab": {
          "base_uri": "https://localhost:8080/"
        },
        "outputId": "8567312b-51a5-428f-90e6-65ae8e25a510"
      },
      "execution_count": null,
      "outputs": [
        {
          "output_type": "stream",
          "name": "stdout",
          "text": [
            "(4793,)\n"
          ]
        },
        {
          "output_type": "stream",
          "name": "stderr",
          "text": [
            "/usr/local/lib/python3.7/dist-packages/sklearn/base.py:451: UserWarning: X does not have valid feature names, but LinearDiscriminantAnalysis was fitted with feature names\n",
            "  \"X does not have valid feature names, but\"\n"
          ]
        }
      ]
    },
    {
      "cell_type": "code",
      "source": [
        "print(\"Accuracy after attack: \",accuracy_score(y_test, Y_attack))"
      ],
      "metadata": {
        "id": "5WSJQwTETOGL",
        "colab": {
          "base_uri": "https://localhost:8080/"
        },
        "outputId": "10f71a3b-b182-476d-8e81-b46aca4d020f"
      },
      "execution_count": null,
      "outputs": [
        {
          "output_type": "stream",
          "name": "stdout",
          "text": [
            "Accuracy after attack:  0.04110160650949301\n"
          ]
        }
      ]
    },
    {
      "cell_type": "code",
      "source": [
        "print(f\"Classification report for classifier {lda}:\\n\"\n",
        "     f\"{metrics.classification_report(y_test, Y_attack)}\\n\")"
      ],
      "metadata": {
        "id": "M7Bq-kBek9Ug",
        "colab": {
          "base_uri": "https://localhost:8080/"
        },
        "outputId": "773f50c9-0194-4421-ea50-2625d3282fd9"
      },
      "execution_count": null,
      "outputs": [
        {
          "output_type": "stream",
          "name": "stdout",
          "text": [
            "Classification report for classifier LinearDiscriminantAnalysis(n_components=1):\n",
            "              precision    recall  f1-score   support\n",
            "\n",
            "           3       0.04      0.04      0.04      2416\n",
            "           8       0.04      0.04      0.04      2377\n",
            "\n",
            "    accuracy                           0.04      4793\n",
            "   macro avg       0.04      0.04      0.04      4793\n",
            "weighted avg       0.04      0.04      0.04      4793\n",
            "\n",
            "\n"
          ]
        }
      ]
    },
    {
      "cell_type": "code",
      "source": [
        "disp = metrics.ConfusionMatrixDisplay.from_predictions(y_test, Y_attack)\n",
        "disp.figure_.suptitle(\"Confusion Matrix After Attack:\")\n",
        "print(f\"Confusion matrix:\\n{disp.confusion_matrix}\")\n",
        "\n",
        "plt.show()"
      ],
      "metadata": {
        "colab": {
          "base_uri": "https://localhost:8080/",
          "height": 360
        },
        "id": "8kRLy0ViOdsj",
        "outputId": "7688329f-d871-4c00-f79e-286b026f97fb"
      },
      "execution_count": null,
      "outputs": [
        {
          "output_type": "stream",
          "name": "stdout",
          "text": [
            "Confusion matrix:\n",
            "[[  95 2321]\n",
            " [2275  102]]\n"
          ]
        },
        {
          "output_type": "display_data",
          "data": {
            "text/plain": [
              "<Figure size 432x288 with 2 Axes>"
            ],
            "image/png": "[encoded data removed]"
          },
          "metadata": {
            "needs_background": "light"
          }
        }
      ]
    },
    {
      "cell_type": "code",
      "source": [
        "X_attack_res=X_attack.reshape(X_attack.shape[0],28,28)"
      ],
      "metadata": {
        "id": "0J8sbVW3lB0e"
      },
      "execution_count": null,
      "outputs": []
    },
    {
      "cell_type": "code",
      "source": [
        "for i in range(0,10):\n",
        "    s=random.randint(0,X_attack.shape[0])\n",
        "    print(s)\n",
        "    plt.imshow(X_attack_res[s])\n",
        "    plt.show()"
      ],
      "metadata": {
        "id": "9sY-gY6_lGyX",
        "colab": {
          "base_uri": "https://localhost:8080/",
          "height": 1000
        },
        "outputId": "3671c969-ccce-4077-96c4-83a614003108"
      },
      "execution_count": null,
      "outputs": [
        {
          "output_type": "stream",
          "name": "stdout",
          "text": [
            "889\n"
          ]
        },
        {
          "output_type": "display_data",
          "data": {
            "text/plain": [
              "<Figure size 432x288 with 1 Axes>"
            ],
            "image/png": "[encoded data removed]"
          },
          "metadata": {
            "needs_background": "light"
          }
        },
        {
          "output_type": "stream",
          "name": "stdout",
          "text": [
            "58\n"
          ]
        },
        {
          "output_type": "display_data",
          "data": {
            "text/plain": [
              "<Figure size 432x288 with 1 Axes>"
            ],
            "image/png": "[encoded data removed]"
          },
          "metadata": {
            "needs_background": "light"
          }
        },
        {
          "output_type": "stream",
          "name": "stdout",
          "text": [
            "1813\n"
          ]
        },
        {
          "output_type": "display_data",
          "data": {
            "text/plain": [
              "<Figure size 432x288 with 1 Axes>"
            ],
            "image/png": "[encoded data removed]"
          },
          "metadata": {
            "needs_background": "light"
          }
        },
        {
          "output_type": "stream",
          "name": "stdout",
          "text": [
            "1993\n"
          ]
        },
        {
          "output_type": "display_data",
          "data": {
            "text/plain": [
              "<Figure size 432x288 with 1 Axes>"
            ],
            "image/png": "[encoded data removed]"
          },
          "metadata": {
            "needs_background": "light"
          }
        },
        {
          "output_type": "stream",
          "name": "stdout",
          "text": [
            "3635\n"
          ]
        },
        {
          "output_type": "display_data",
          "data": {
            "text/plain": [
              "<Figure size 432x288 with 1 Axes>"
            ],
            "image/png": "[encoded data removed]"
          },
          "metadata": {
            "needs_background": "light"
          }
        },
        {
          "output_type": "stream",
          "name": "stdout",
          "text": [
            "2067\n"
          ]
        },
        {
          "output_type": "display_data",
          "data": {
            "text/plain": [
              "<Figure size 432x288 with 1 Axes>"
            ],
            "image/png": "[encoded data removed]"
          },
          "metadata": {
            "needs_background": "light"
          }
        },
        {
          "output_type": "stream",
          "name": "stdout",
          "text": [
            "2509\n"
          ]
        },
        {
          "output_type": "display_data",
          "data": {
            "text/plain": [
              "<Figure size 432x288 with 1 Axes>"
            ],
            "image/png": "[encoded data removed]"
          },
          "metadata": {
            "needs_background": "light"
          }
        },
        {
          "output_type": "stream",
          "name": "stdout",
          "text": [
            "617\n"
          ]
        },
        {
          "output_type": "display_data",
          "data": {
            "text/plain": [
              "<Figure size 432x288 with 1 Axes>"
            ],
            "image/png": "[encoded data removed]"
          },
          "metadata": {
            "needs_background": "light"
          }
        },
        {
          "output_type": "stream",
          "name": "stdout",
          "text": [
            "609\n"
          ]
        },
        {
          "output_type": "display_data",
          "data": {
            "text/plain": [
              "<Figure size 432x288 with 1 Axes>"
            ],
            "image/png": "[encoded data removed]"
          },
          "metadata": {
            "needs_background": "light"
          }
        },
        {
          "output_type": "stream",
          "name": "stdout",
          "text": [
            "3838\n"
          ]
        },
        {
          "output_type": "display_data",
          "data": {
            "text/plain": [
              "<Figure size 432x288 with 1 Axes>"
            ],
            "image/png": "[encoded data removed]"
          },
          "metadata": {
            "needs_background": "light"
          }
        }
      ]
    },
    {
      "cell_type": "code",
      "source": [
        ""
      ],
      "metadata": {
        "id": "47yTy83pnVln"
      },
      "execution_count": null,
      "outputs": []
    }
  ]
}