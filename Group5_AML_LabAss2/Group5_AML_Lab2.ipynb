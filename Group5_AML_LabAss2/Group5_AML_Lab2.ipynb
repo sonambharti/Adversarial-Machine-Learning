{
  "metadata": {
    "kernelspec": {
      "language": "python",
      "display_name": "Python 3",
      "name": "python3"
    },
    "language_info": {
      "name": "python",
      "version": "3.7.12",
      "mimetype": "text/x-python",
      "codemirror_mode": {
        "name": "ipython",
        "version": 3
      },
      "pygments_lexer": "ipython3",
      "nbconvert_exporter": "python",
      "file_extension": ".py"
    },
    "colab": {
      "name": "Group5_AML_Lab2.ipynb",
      "provenance": []
    }
  },
  "nbformat_minor": 0,
  "nbformat": 4,
  "cells": [
    {
      "cell_type": "markdown",
      "source": [
        "#**Q2(a).**"
      ],
      "metadata": {
        "id": "sj7s9Ne54F_o"
      }
    },
    {
      "cell_type": "code",
      "source": [
        "import numpy as np \n",
        "import pandas as pd \n",
        "\n",
        "import matplotlib.pyplot as plt\n",
        "from pylab import *\n",
        "\n",
        "from sklearn import metrics\n",
        "from sklearn.metrics import accuracy_score\n",
        "from sklearn.datasets import fetch_openml\n",
        "from sklearn.discriminant_analysis import LinearDiscriminantAnalysis as LDA\n",
        "from sklearn.model_selection import train_test_split"
      ],
      "metadata": {
        "_uuid": "8f2839f25d086af736a60e9eeb907d3b93b6e0e5",
        "_cell_guid": "b1076dfc-b9ad-4769-8c92-a6c4dae69d19",
        "execution": {
          "iopub.status.busy": "2022-03-14T07:38:32.048973Z",
          "iopub.execute_input": "2022-03-14T07:38:32.049759Z",
          "iopub.status.idle": "2022-03-14T07:38:32.056319Z",
          "shell.execute_reply.started": "2022-03-14T07:38:32.049717Z",
          "shell.execute_reply": "2022-03-14T07:38:32.055422Z"
        },
        "trusted": true,
        "id": "11n-8AJpbRhv"
      },
      "execution_count": 109,
      "outputs": []
    },
    {
      "cell_type": "code",
      "source": [
        "mnist = fetch_openml(\"mnist_784\")"
      ],
      "metadata": {
        "execution": {
          "iopub.status.busy": "2022-03-14T07:21:08.069200Z",
          "iopub.execute_input": "2022-03-14T07:21:08.069717Z",
          "iopub.status.idle": "2022-03-14T07:21:14.946135Z",
          "shell.execute_reply.started": "2022-03-14T07:21:08.069681Z",
          "shell.execute_reply": "2022-03-14T07:21:14.945068Z"
        },
        "trusted": true,
        "id": "JH-d5TnCbRh4"
      },
      "execution_count": 110,
      "outputs": []
    },
    {
      "cell_type": "code",
      "source": [
        "X_train, X_test, y_train, y_test = train_test_split(mnist.data, mnist.target, test_size=0.40, random_state=0)\n",
        "lda = LDA(n_components=9)\n",
        "X_train_r2 = lda.fit(X_train, y_train).transform(X_train)"
      ],
      "metadata": {
        "execution": {
          "iopub.status.busy": "2022-03-14T07:21:19.432705Z",
          "iopub.execute_input": "2022-03-14T07:21:19.433015Z",
          "iopub.status.idle": "2022-03-14T07:21:33.135070Z",
          "shell.execute_reply.started": "2022-03-14T07:21:19.432982Z",
          "shell.execute_reply": "2022-03-14T07:21:33.133869Z"
        },
        "trusted": true,
        "id": "y4smlYW7bRh6"
      },
      "execution_count": 111,
      "outputs": []
    },
    {
      "cell_type": "code",
      "source": [
        "X_train_r2\n",
        "#lda.explained_variance_ratio_"
      ],
      "metadata": {
        "execution": {
          "iopub.status.busy": "2022-03-14T07:33:36.369872Z",
          "iopub.execute_input": "2022-03-14T07:33:36.370252Z",
          "iopub.status.idle": "2022-03-14T07:33:36.378718Z",
          "shell.execute_reply.started": "2022-03-14T07:33:36.370193Z",
          "shell.execute_reply": "2022-03-14T07:33:36.377832Z"
        },
        "trusted": true,
        "id": "3eZ7YaN-bRh8",
        "colab": {
          "base_uri": "https://localhost:8080/"
        },
        "outputId": "3d24f91f-0490-4050-b783-8799b32d0006"
      },
      "execution_count": 112,
      "outputs": [
        {
          "output_type": "execute_result",
          "data": {
            "text/plain": [
              "array([[-0.83802314,  0.79363716, -2.24596587, ...,  1.05234074,\n",
              "        -1.17820236, -0.64343911],\n",
              "       [-1.05283545, -0.32333017, -0.11502412, ..., -1.89345235,\n",
              "         3.73725555, -1.74719174],\n",
              "       [-0.70942438,  1.34137099, -2.73821727, ...,  1.96260983,\n",
              "        -0.47087317,  0.42831177],\n",
              "       ...,\n",
              "       [ 2.40075933, -1.09908217, -1.34553271, ..., -0.21423737,\n",
              "         0.6525376 ,  0.23647245],\n",
              "       [ 0.24472386,  3.90344305, -0.36239286, ...,  0.08714942,\n",
              "        -0.03893482, -0.06949245],\n",
              "       [ 0.39554512,  2.80659566,  0.18482713, ..., -0.9726532 ,\n",
              "         0.50774717,  0.92681156]])"
            ]
          },
          "metadata": {},
          "execution_count": 112
        }
      ]
    },
    {
      "cell_type": "code",
      "source": [
        "y_pred = lda.predict(X_test)\n",
        "print(\"Accuracy before Attack: \",accuracy_score(y_test, y_pred))"
      ],
      "metadata": {
        "execution": {
          "iopub.status.busy": "2022-03-14T07:35:22.408098Z",
          "iopub.execute_input": "2022-03-14T07:35:22.408408Z",
          "iopub.status.idle": "2022-03-14T07:35:22.475853Z",
          "shell.execute_reply.started": "2022-03-14T07:35:22.408377Z",
          "shell.execute_reply": "2022-03-14T07:35:22.474810Z"
        },
        "trusted": true,
        "id": "uIFX2P6ObRh-",
        "colab": {
          "base_uri": "https://localhost:8080/"
        },
        "outputId": "c148d3f5-3446-42e7-bcdd-300040c15eae"
      },
      "execution_count": 113,
      "outputs": [
        {
          "output_type": "stream",
          "name": "stdout",
          "text": [
            "Accuracy before Attack:  0.8621428571428571\n"
          ]
        }
      ]
    },
    {
      "cell_type": "code",
      "source": [
        "print(\n",
        "    f\"Classification report for classifier {lda}:\\n\"\n",
        "    f\"{metrics.classification_report(y_test, y_pred)}\\n\"\n",
        ")\n",
        "w0 = lda.intercept_\n",
        "w = lda.coef_\n",
        "print(f\"Bias: \\n{w0}\")\n",
        "print(f\"\\n\\nWeights: \\n{w}\")"
      ],
      "metadata": {
        "execution": {
          "iopub.status.busy": "2022-03-14T07:38:36.110366Z",
          "iopub.execute_input": "2022-03-14T07:38:36.110687Z",
          "iopub.status.idle": "2022-03-14T07:38:36.142776Z",
          "shell.execute_reply.started": "2022-03-14T07:38:36.110655Z",
          "shell.execute_reply": "2022-03-14T07:38:36.141990Z"
        },
        "trusted": true,
        "id": "3hEsVdhNbRh_",
        "colab": {
          "base_uri": "https://localhost:8080/"
        },
        "outputId": "52b758ee-911a-4f74-f94f-ab994fff53a0"
      },
      "execution_count": 114,
      "outputs": [
        {
          "output_type": "stream",
          "name": "stdout",
          "text": [
            "Classification report for classifier LinearDiscriminantAnalysis(n_components=9):\n",
            "              precision    recall  f1-score   support\n",
            "\n",
            "           0       0.95      0.94      0.94      2812\n",
            "           1       0.87      0.96      0.91      3179\n",
            "           2       0.90      0.80      0.85      2787\n",
            "           3       0.86      0.84      0.85      2815\n",
            "           4       0.83      0.90      0.86      2678\n",
            "           5       0.82      0.81      0.82      2523\n",
            "           6       0.91      0.91      0.91      2740\n",
            "           7       0.91      0.82      0.86      2927\n",
            "           8       0.80      0.79      0.80      2716\n",
            "           9       0.77      0.85      0.81      2823\n",
            "\n",
            "    accuracy                           0.86     28000\n",
            "   macro avg       0.86      0.86      0.86     28000\n",
            "weighted avg       0.86      0.86      0.86     28000\n",
            "\n",
            "\n",
            "Bias: \n",
            "[-14.02231332  -9.9180227  -11.50449567 -10.00387882  -7.2549487\n",
            "  -5.93495946 -15.42759498 -11.27285202 -10.88903113  -8.76351898]\n",
            "\n",
            "\n",
            "Weights: \n",
            "[[-3.50051444e-17  1.07428094e-16  2.22966158e-16 ...  0.00000000e+00\n",
            "   0.00000000e+00  0.00000000e+00]\n",
            " [ 2.01557881e-17  1.09920169e-15 -7.40801917e-16 ...  0.00000000e+00\n",
            "   0.00000000e+00  0.00000000e+00]\n",
            " [ 1.56939775e-18 -6.88100319e-16  5.60793672e-16 ...  0.00000000e+00\n",
            "   0.00000000e+00  0.00000000e+00]\n",
            " ...\n",
            " [-1.07505621e-17 -6.82366096e-16  2.77066848e-15 ...  0.00000000e+00\n",
            "   0.00000000e+00  0.00000000e+00]\n",
            " [-1.37786555e-18  1.69399865e-15 -3.01492147e-15 ...  0.00000000e+00\n",
            "   0.00000000e+00  0.00000000e+00]\n",
            " [-6.96872425e-18 -4.37529954e-16  1.15180858e-15 ...  0.00000000e+00\n",
            "   0.00000000e+00  0.00000000e+00]]\n"
          ]
        }
      ]
    },
    {
      "cell_type": "code",
      "source": [
        "disp = metrics.ConfusionMatrixDisplay.from_predictions(y_test, y_pred)\n",
        "disp.figure_.suptitle(\"Confusion Matrix\")\n",
        "print(f\"Confusion matrix:\\n{disp.confusion_matrix}\")\n",
        "\n",
        "plt.show()"
      ],
      "metadata": {
        "execution": {
          "iopub.status.busy": "2022-03-14T07:40:08.448528Z",
          "iopub.execute_input": "2022-03-14T07:40:08.448822Z",
          "iopub.status.idle": "2022-03-14T07:40:09.097506Z",
          "shell.execute_reply.started": "2022-03-14T07:40:08.448791Z",
          "shell.execute_reply": "2022-03-14T07:40:09.096550Z"
        },
        "trusted": true,
        "id": "JGDIR9_JbRiB",
        "colab": {
          "base_uri": "https://localhost:8080/",
          "height": 499
        },
        "outputId": "9bbf2054-50fe-4302-8d29-c9d316f6e674"
      },
      "execution_count": 115,
      "outputs": [
        {
          "output_type": "stream",
          "name": "stdout",
          "text": [
            "Confusion matrix:\n",
            "[[2631    5   11   12   16   53   35    2   45    2]\n",
            " [   0 3065   20    6    5   15    4    4   58    2]\n",
            " [  28   98 2223  100   62   15  101   19  124   17]\n",
            " [   6   45   83 2364   11  103   13   51   74   65]\n",
            " [   4   24   19    1 2405   18   14    4   28  161]\n",
            " [  24   30   16  118   34 2039   50   15  123   74]\n",
            " [  26   31   43    1   50   71 2480    0   37    1]\n",
            " [  13   70   26   23   80   11    0 2392   17  295]\n",
            " [  14  139   20   95   47  136   15    7 2152   91]\n",
            " [  16   16    7   39  175   14    0  132   35 2389]]\n"
          ]
        },
        {
          "output_type": "display_data",
          "data": {
            "text/plain": [
              "<Figure size 432x288 with 2 Axes>"
            ],
            "image/png": "[encoded data removed]"
          },
          "metadata": {
            "needs_background": "light"
          }
        }
      ]
    },
    {
      "cell_type": "code",
      "source": [
        ""
      ],
      "metadata": {
        "id": "3fSC0xQDtFZ-"
      },
      "execution_count": null,
      "outputs": []
    },
    {
      "cell_type": "markdown",
      "source": [
        "#**Q2(b).**"
      ],
      "metadata": {
        "id": "_Z_5nyrX4UTo"
      }
    },
    {
      "cell_type": "code",
      "source": [
        ""
      ],
      "metadata": {
        "id": "ukz-6bZlTRvr"
      },
      "execution_count": 115,
      "outputs": []
    },
    {
      "cell_type": "code",
      "source": [
        ""
      ],
      "metadata": {
        "id": "jbHbND4fUlkH"
      },
      "execution_count": 115,
      "outputs": []
    },
    {
      "cell_type": "code",
      "source": [
        ""
      ],
      "metadata": {
        "id": "XH7lqg6MbRiD"
      },
      "execution_count": null,
      "outputs": []
    },
    {
      "cell_type": "code",
      "source": [
        ""
      ],
      "metadata": {
        "id": "5WSJQwTETOGL",
        "colab": {
          "base_uri": "https://localhost:8080/",
          "height": 310
        },
        "outputId": "b24b56a3-2033-46a7-da88-3bcf229633e5"
      },
      "execution_count": null,
      "outputs": [
        {
          "output_type": "error",
          "ename": "ValueError",
          "evalue": "ignored",
          "traceback": [
            "\u001b[0;31m---------------------------------------------------------------------------\u001b[0m",
            "\u001b[0;31mValueError\u001b[0m                                Traceback (most recent call last)",
            "\u001b[0;32m<ipython-input-79-ff5b5c0f2aca>\u001b[0m in \u001b[0;36m<module>\u001b[0;34m()\u001b[0m\n\u001b[0;32m----> 1\u001b[0;31m \u001b[0mX1\u001b[0m\u001b[0;34m=\u001b[0m\u001b[0mX_test\u001b[0m\u001b[0;34m-\u001b[0m\u001b[0;34m(\u001b[0m\u001b[0;34m(\u001b[0m\u001b[0mX_test\u001b[0m\u001b[0;34m@\u001b[0m\u001b[0mnp\u001b[0m\u001b[0;34m.\u001b[0m\u001b[0mtranspose\u001b[0m\u001b[0;34m(\u001b[0m\u001b[0mw\u001b[0m\u001b[0;34m)\u001b[0m\u001b[0;34m+\u001b[0m\u001b[0mw0\u001b[0m\u001b[0;34m)\u001b[0m\u001b[0;34m@\u001b[0m\u001b[0mw\u001b[0m\u001b[0;34m)\u001b[0m\u001b[0;34m/\u001b[0m\u001b[0mw\u001b[0m\u001b[0;34m@\u001b[0m\u001b[0;34m(\u001b[0m\u001b[0mnp\u001b[0m\u001b[0;34m.\u001b[0m\u001b[0mtranspose\u001b[0m\u001b[0;34m(\u001b[0m\u001b[0mw\u001b[0m\u001b[0;34m)\u001b[0m\u001b[0;34m)\u001b[0m\u001b[0;34m\u001b[0m\u001b[0;34m\u001b[0m\u001b[0m\n\u001b[0m",
            "\u001b[0;32m/usr/local/lib/python3.7/dist-packages/pandas/core/ops/common.py\u001b[0m in \u001b[0;36mnew_method\u001b[0;34m(self, other)\u001b[0m\n\u001b[1;32m     67\u001b[0m         \u001b[0mother\u001b[0m \u001b[0;34m=\u001b[0m \u001b[0mitem_from_zerodim\u001b[0m\u001b[0;34m(\u001b[0m\u001b[0mother\u001b[0m\u001b[0;34m)\u001b[0m\u001b[0;34m\u001b[0m\u001b[0;34m\u001b[0m\u001b[0m\n\u001b[1;32m     68\u001b[0m \u001b[0;34m\u001b[0m\u001b[0m\n\u001b[0;32m---> 69\u001b[0;31m         \u001b[0;32mreturn\u001b[0m \u001b[0mmethod\u001b[0m\u001b[0;34m(\u001b[0m\u001b[0mself\u001b[0m\u001b[0;34m,\u001b[0m \u001b[0mother\u001b[0m\u001b[0;34m)\u001b[0m\u001b[0;34m\u001b[0m\u001b[0;34m\u001b[0m\u001b[0m\n\u001b[0m\u001b[1;32m     70\u001b[0m \u001b[0;34m\u001b[0m\u001b[0m\n\u001b[1;32m     71\u001b[0m     \u001b[0;32mreturn\u001b[0m \u001b[0mnew_method\u001b[0m\u001b[0;34m\u001b[0m\u001b[0;34m\u001b[0m\u001b[0m\n",
            "\u001b[0;32m/usr/local/lib/python3.7/dist-packages/pandas/core/arraylike.py\u001b[0m in \u001b[0;36m__truediv__\u001b[0;34m(self, other)\u001b[0m\n\u001b[1;32m    114\u001b[0m     \u001b[0;34m@\u001b[0m\u001b[0munpack_zerodim_and_defer\u001b[0m\u001b[0;34m(\u001b[0m\u001b[0;34m\"__truediv__\"\u001b[0m\u001b[0;34m)\u001b[0m\u001b[0;34m\u001b[0m\u001b[0;34m\u001b[0m\u001b[0m\n\u001b[1;32m    115\u001b[0m     \u001b[0;32mdef\u001b[0m \u001b[0m__truediv__\u001b[0m\u001b[0;34m(\u001b[0m\u001b[0mself\u001b[0m\u001b[0;34m,\u001b[0m \u001b[0mother\u001b[0m\u001b[0;34m)\u001b[0m\u001b[0;34m:\u001b[0m\u001b[0;34m\u001b[0m\u001b[0;34m\u001b[0m\u001b[0m\n\u001b[0;32m--> 116\u001b[0;31m         \u001b[0;32mreturn\u001b[0m \u001b[0mself\u001b[0m\u001b[0;34m.\u001b[0m\u001b[0m_arith_method\u001b[0m\u001b[0;34m(\u001b[0m\u001b[0mother\u001b[0m\u001b[0;34m,\u001b[0m \u001b[0moperator\u001b[0m\u001b[0;34m.\u001b[0m\u001b[0mtruediv\u001b[0m\u001b[0;34m)\u001b[0m\u001b[0;34m\u001b[0m\u001b[0;34m\u001b[0m\u001b[0m\n\u001b[0m\u001b[1;32m    117\u001b[0m \u001b[0;34m\u001b[0m\u001b[0m\n\u001b[1;32m    118\u001b[0m     \u001b[0;34m@\u001b[0m\u001b[0munpack_zerodim_and_defer\u001b[0m\u001b[0;34m(\u001b[0m\u001b[0;34m\"__rtruediv__\"\u001b[0m\u001b[0;34m)\u001b[0m\u001b[0;34m\u001b[0m\u001b[0;34m\u001b[0m\u001b[0m\n",
            "\u001b[0;32m/usr/local/lib/python3.7/dist-packages/pandas/core/frame.py\u001b[0m in \u001b[0;36m_arith_method\u001b[0;34m(self, other, op)\u001b[0m\n\u001b[1;32m   6862\u001b[0m         \u001b[0mother\u001b[0m \u001b[0;34m=\u001b[0m \u001b[0mops\u001b[0m\u001b[0;34m.\u001b[0m\u001b[0mmaybe_prepare_scalar_for_op\u001b[0m\u001b[0;34m(\u001b[0m\u001b[0mother\u001b[0m\u001b[0;34m,\u001b[0m \u001b[0;34m(\u001b[0m\u001b[0mself\u001b[0m\u001b[0;34m.\u001b[0m\u001b[0mshape\u001b[0m\u001b[0;34m[\u001b[0m\u001b[0maxis\u001b[0m\u001b[0;34m]\u001b[0m\u001b[0;34m,\u001b[0m\u001b[0;34m)\u001b[0m\u001b[0;34m)\u001b[0m\u001b[0;34m\u001b[0m\u001b[0;34m\u001b[0m\u001b[0m\n\u001b[1;32m   6863\u001b[0m \u001b[0;34m\u001b[0m\u001b[0m\n\u001b[0;32m-> 6864\u001b[0;31m         \u001b[0mself\u001b[0m\u001b[0;34m,\u001b[0m \u001b[0mother\u001b[0m \u001b[0;34m=\u001b[0m \u001b[0mops\u001b[0m\u001b[0;34m.\u001b[0m\u001b[0malign_method_FRAME\u001b[0m\u001b[0;34m(\u001b[0m\u001b[0mself\u001b[0m\u001b[0;34m,\u001b[0m \u001b[0mother\u001b[0m\u001b[0;34m,\u001b[0m \u001b[0maxis\u001b[0m\u001b[0;34m,\u001b[0m \u001b[0mflex\u001b[0m\u001b[0;34m=\u001b[0m\u001b[0;32mTrue\u001b[0m\u001b[0;34m,\u001b[0m \u001b[0mlevel\u001b[0m\u001b[0;34m=\u001b[0m\u001b[0;32mNone\u001b[0m\u001b[0;34m)\u001b[0m\u001b[0;34m\u001b[0m\u001b[0;34m\u001b[0m\u001b[0m\n\u001b[0m\u001b[1;32m   6865\u001b[0m \u001b[0;34m\u001b[0m\u001b[0m\n\u001b[1;32m   6866\u001b[0m         \u001b[0mnew_data\u001b[0m \u001b[0;34m=\u001b[0m \u001b[0mself\u001b[0m\u001b[0;34m.\u001b[0m\u001b[0m_dispatch_frame_op\u001b[0m\u001b[0;34m(\u001b[0m\u001b[0mother\u001b[0m\u001b[0;34m,\u001b[0m \u001b[0mop\u001b[0m\u001b[0;34m,\u001b[0m \u001b[0maxis\u001b[0m\u001b[0;34m=\u001b[0m\u001b[0maxis\u001b[0m\u001b[0;34m)\u001b[0m\u001b[0;34m\u001b[0m\u001b[0;34m\u001b[0m\u001b[0m\n",
            "\u001b[0;32m/usr/local/lib/python3.7/dist-packages/pandas/core/ops/__init__.py\u001b[0m in \u001b[0;36malign_method_FRAME\u001b[0;34m(left, right, axis, flex, level)\u001b[0m\n\u001b[1;32m    262\u001b[0m             \u001b[0;32melse\u001b[0m\u001b[0;34m:\u001b[0m\u001b[0;34m\u001b[0m\u001b[0;34m\u001b[0m\u001b[0m\n\u001b[1;32m    263\u001b[0m                 raise ValueError(\n\u001b[0;32m--> 264\u001b[0;31m                     \u001b[0;34m\"Unable to coerce to DataFrame, shape \"\u001b[0m\u001b[0;34m\u001b[0m\u001b[0;34m\u001b[0m\u001b[0m\n\u001b[0m\u001b[1;32m    265\u001b[0m                     \u001b[0;34mf\"must be {left.shape}: given {right.shape}\"\u001b[0m\u001b[0;34m\u001b[0m\u001b[0;34m\u001b[0m\u001b[0m\n\u001b[1;32m    266\u001b[0m                 )\n",
            "\u001b[0;31mValueError\u001b[0m: Unable to coerce to DataFrame, shape must be (28000, 784): given (10, 784)"
          ]
        }
      ]
    },
    {
      "cell_type": "code",
      "source": [
        ""
      ],
      "metadata": {
        "id": "M7Bq-kBek9Ug"
      },
      "execution_count": null,
      "outputs": []
    }
  ]
}